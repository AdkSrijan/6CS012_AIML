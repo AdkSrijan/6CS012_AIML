{
  "nbformat": 4,
  "nbformat_minor": 0,
  "metadata": {
    "colab": {
      "provenance": []
    },
    "kernelspec": {
      "name": "python3",
      "display_name": "Python 3"
    },
    "language_info": {
      "name": "python"
    }
  },
  "cells": [
    {
      "cell_type": "markdown",
      "source": [
        "Srijan Adhikari - Workshop 0"
      ],
      "metadata": {
        "id": "KfwONWRnTPFu"
      }
    },
    {
      "cell_type": "markdown",
      "source": [
        "Task - 1:\n",
        "Create a Python program that converts between different units of measurement.\n",
        "• The program should:\n",
        "1. Prompt the user to choose the type of conversion (e.g., length, weight, volume).\n",
        "2. Ask the user to input the value to be converted.\n",
        "3. Perform the conversion and display the result.\n",
        "4. Handle potential errors, such as invalid input or unsupported conversion types.\n",
        "• Requirements:\n",
        "1. Functions: Define at least one function to perform the conversion.\n",
        "2. Error Handling: Use try-except blocks to handle invalid input (e.g., non-numeric values).\n",
        "3. User Input: Prompt the user to select the conversion type and input the value.\n",
        "4. Docstrings: Include a docstring in your function to describe its purpose, parameters, and\n",
        "return value.\n",
        "• Conversion Options:\n",
        "1. Length:\n",
        "– Convert meters (m) to feet (ft).\n",
        "– Convert feet (ft) to meters (m).\n",
        "2. Weight:\n",
        "– Convert kilograms (kg) to pounds (lbs).\n",
        "– Convert pounds (lbs) to kilograms (kg).\n",
        "3. Volume:\n",
        "– Convert liters (L) to gallons (gal).\n",
        "– Convert gallons (gal) to liters (L)."
      ],
      "metadata": {
        "id": "QJLvZMfPTYsy"
      }
    },
    {
      "cell_type": "code",
      "source": [
        "types = [\"m2f\", \"f2m\", \"kg2lbs\", \"lbs2kg\", \"l2ga\", \"ga2l\"]\n",
        "print(\"The available conversions are: \")\n",
        "for values in types:\n",
        "  print(values)\n",
        "conversion_type = input(\"What conversion do you want ? \")\n",
        "conversion_type = conversion_type.lower()\n",
        "value1 =  input(\"Enter the value: \")\n",
        "\n",
        "def conversion(value1, conversion_type):\n",
        "  '''This takes 1 value and the conversion type and returns the converted value'''\n",
        "  try:\n",
        "    value1 = float(value1)\n",
        "  except ValueError:\n",
        "    print(\"Invalid input\")\n",
        "  else:\n",
        "    if conversion_type == \"m2f\":\n",
        "      return value1 * 3.2808\n",
        "    elif conversion_type == \"f2m\":\n",
        "      return value1/3.2808\n",
        "    elif conversion_type == \"kg2lbs\":\n",
        "      return value1 * 2.2046\n",
        "    elif conversion_type == \"lbs2kg\":\n",
        "      return value1/2.2046\n",
        "    elif conversion_type == \"l2ga\":\n",
        "      return value1 * 0.26417\n",
        "    elif conversion_type == \"ga2l\":\n",
        "      return value1/0.26417\n",
        "\n",
        "print(f\"The converted value is {conversion(value1, conversion_type)}\")\n",
        "\n"
      ],
      "metadata": {
        "colab": {
          "base_uri": "https://localhost:8080/"
        },
        "id": "pLdlQx4CYLM6",
        "outputId": "a09948cb-71c3-40ff-9fe4-785a96da8fe4"
      },
      "execution_count": null,
      "outputs": [
        {
          "output_type": "stream",
          "name": "stdout",
          "text": [
            "The available conversions are: \n",
            "m2f\n",
            "f2m\n",
            "kg2lbs\n",
            "lbs2kg\n",
            "l2ga\n",
            "ga2l\n",
            "What conversion do you want ? m2f\n",
            "Enter the value: 10\n",
            "The converted value is 32.808\n"
          ]
        }
      ]
    },
    {
      "cell_type": "markdown",
      "source": [
        "Create a Python program that performs various mathematical operations on a list of numbers.\n",
        "\n",
        "The Program should:\n",
        "1. Prompt the user to choose an operation (e.g., find the sum, average, maximum, or minimum\n",
        "of the numbers).\n",
        "2. Ask the user to input a list of numbers (separated by spaces).\n",
        "3. Perform the selected operation and display the result.\n",
        "4. Handle potential errors, such as invalid input or empty lists."
      ],
      "metadata": {
        "id": "zAvzI_QyYNbF"
      }
    },
    {
      "cell_type": "code",
      "source": [
        "availabe_operations = [\"sum\", \"average\", \"maximum\", \"minimum\"]\n",
        "\n",
        "print(\"The available operations are: \")\n",
        "for values in availabe_operations:\n",
        "  print(values)\n",
        "operation = input(\"Enter the operation you want to perform : \")\n",
        "operation = operation.lower()\n",
        "\n",
        "if operation not in availabe_operations:\n",
        "  raise ValueError(\"Invalid operation\")\n",
        "\n",
        "print(\"Enter the numbers separated by spaces: \")\n",
        "numbers = input()\n",
        "numbers = numbers.split()\n",
        "\n",
        "def sum(values):\n",
        "  \"\"\"It takes values and return their sum\"\"\"\n",
        "  sum = 0\n",
        "  for i in range(len(numbers)):\n",
        "    sum = sum + int(numbers[i])\n",
        "  return sum\n",
        "\n",
        "def calculator(numbers, operation):\n",
        "  \"\"\"It takes the numbers and perform the operations on it\"\"\"\n",
        "  for number in numbers:\n",
        "    if operation == \"sum\":\n",
        "      return sum(numbers)\n",
        "    elif operation == \"average\":\n",
        "      return sum(numbers)/len(numbers)\n",
        "    elif operation == \"maximum\":\n",
        "      return max(numbers)\n",
        "    elif operation == \"minimum\":\n",
        "      return min(numbers)\n",
        "\n",
        "print(f\"The {operation} for given numbers is\", calculator(numbers, operation))\n"
      ],
      "metadata": {
        "colab": {
          "base_uri": "https://localhost:8080/"
        },
        "id": "PqXuPcS_ekKA",
        "outputId": "fd9e2b1f-b73f-4c21-d4e5-7f6b0bd5fbe4"
      },
      "execution_count": null,
      "outputs": [
        {
          "output_type": "stream",
          "name": "stdout",
          "text": [
            "The available operations are: \n",
            "sum\n",
            "average\n",
            "maximum\n",
            "minimum\n",
            "Enter the operation you want to perform : sum\n",
            "Enter the numbers separated by spaces: \n",
            "1 2 3 4 \n",
            "The sum for given numbers is 10\n"
          ]
        }
      ]
    },
    {
      "cell_type": "markdown",
      "source": [
        "Write a Python function that extracts every other element from a list, starting from the first element.\n",
        "\n",
        "• Requirements:\n",
        "\n",
        "– Define a function extract every other(lst) that takes a list lst as input and returns new list containing every other element from the original list.\n",
        "\n",
        "– Example: For the input [1, 2, 3, 4, 5, 6], the output should be [1, 3, 5]."
      ],
      "metadata": {
        "id": "2LD6iER8hl2X"
      }
    },
    {
      "cell_type": "code",
      "source": [
        "initial_list = []\n",
        "print(\"Enter 'hehe' to exit the loop.\")\n",
        "while True:\n",
        "  initial_list_element = input(\"Enter the element of the list: \")\n",
        "  if initial_list_element == \"hehe\":\n",
        "    break\n",
        "  initial_list.append(initial_list_element)\n",
        "\n",
        "print(\"The initial list is : \",initial_list)\n",
        "\n",
        "def extract_every_other(lst):\n",
        "  \"\"\" This extracts every other list and returns new list\"\"\"\n",
        "  for value in lst:\n",
        "    return lst[::2] #lst[start:end:step] from start to end with 2 as a step\n",
        "\n",
        "print(\"The new list is : \",extract_every_other(initial_list))\n"
      ],
      "metadata": {
        "colab": {
          "base_uri": "https://localhost:8080/"
        },
        "id": "rkBSS82NhvuW",
        "outputId": "7d321957-2ac9-4894-c280-bafcef25797c"
      },
      "execution_count": null,
      "outputs": [
        {
          "output_type": "stream",
          "name": "stdout",
          "text": [
            "Enter 'hehe' to exit the loop.\n",
            "Enter the element of the list: 1\n",
            "Enter the element of the list: 3\n",
            "Enter the element of the list: 4\n",
            "Enter the element of the list: 5\n",
            "Enter the element of the list: 2\n",
            "Enter the element of the list: hehe\n",
            "The initial list is :  ['1', '3', '4', '5', '2']\n",
            "The new list is :  ['1', '4', '2']\n"
          ]
        }
      ]
    },
    {
      "cell_type": "markdown",
      "source": [
        "Slice a Sublist:\n",
        "\n",
        "Write a Python function that returns a sublist from a given list, starting from a specified index and ending at another specified index.\n",
        "\n",
        "• Requirements:\n",
        "\n",
        "– Define a function get sublist(lst, start, end) that takes a list lst, a starting index\n",
        "start, and an ending index end as input and returns the sublist from start to end (inclusive).\n",
        "\n",
        "– Example: For the input [1, 2, 3, 4, 5, 6] with start=2 and end=4, the output should\n",
        "be [3, 4, 5]."
      ],
      "metadata": {
        "id": "x4jMhSJXjqZN"
      }
    },
    {
      "cell_type": "code",
      "source": [
        "initial_list = []\n",
        "print(\"Enter 'hehe' to exit the loop.\")\n",
        "while True:\n",
        "  initial_list_element = input(\"Enter the element of the list: \")\n",
        "  if initial_list_element == \"hehe\":\n",
        "    break\n",
        "  initial_list.append(initial_list_element)\n",
        "\n",
        "print(\"The initial list is : \",initial_list)\n",
        "\n",
        "start = int(input(\"Where do you want final list to start? : \"))\n",
        "end = int(input(\"Where do you want final list to end? : \"))\n",
        "\n",
        "def get_sublist(lst, start, end):\n",
        "  \"\"\"This returns a sublist from a given list, starting from a specified index and ending at another specified index\"\"\"\n",
        "  new_list = lst[start:end+1]\n",
        "  return new_list\n",
        "\n",
        "print(\"The final list will be : \", get_sublist(initial_list,start, end))"
      ],
      "metadata": {
        "colab": {
          "base_uri": "https://localhost:8080/"
        },
        "id": "e-BmaQpEjtNf",
        "outputId": "287ec304-4a7a-4abf-c9fd-d049d75ebcd7"
      },
      "execution_count": null,
      "outputs": [
        {
          "output_type": "stream",
          "name": "stdout",
          "text": [
            "Enter 'hehe' to exit the loop.\n",
            "Enter the element of the list: 1\n",
            "Enter the element of the list: \n",
            "Enter the element of the list: 2\n",
            "Enter the element of the list: 3\n",
            "Enter the element of the list: 4\n",
            "Enter the element of the list: 5\n",
            "Enter the element of the list: hehe\n",
            "The initial list is :  ['1', '', '2', '3', '4', '5']\n",
            "Where do you want final list to start? : 2\n",
            "Where do you want final list to end? : 5\n",
            "The final list will be :  ['2', '3', '4', '5']\n"
          ]
        }
      ]
    },
    {
      "cell_type": "markdown",
      "source": [
        "Write a Python function that reverses a list using slicing.\n",
        "\n",
        "• Requirements:\n",
        "\n",
        "– Define a function reverse list(lst) that takes a list lst and returns a reversed list using\n",
        "slicing.\n",
        "\n",
        "– Example: For the input [1, 2, 3, 4, 5], the output should be [5, 4, 3, 2, 1]."
      ],
      "metadata": {
        "id": "c7jKXC3oxav6"
      }
    },
    {
      "cell_type": "code",
      "source": [
        "initial_list = input(\"Enter values for list with space separation: \").split()\n",
        "\n",
        "def reverse_list(lst):\n",
        "  \"\"\"This reverses the given list and provides the reversed list\"\"\"\n",
        "  return lst[::-1]\n",
        "\n",
        "print(\"This is the reversed list: \", reverse_list(initial_list))\n"
      ],
      "metadata": {
        "colab": {
          "base_uri": "https://localhost:8080/"
        },
        "id": "Xw0l4uBOxabn",
        "outputId": "5240df1c-c3ed-4420-eed4-8651f3ca18fa"
      },
      "execution_count": null,
      "outputs": [
        {
          "output_type": "stream",
          "name": "stdout",
          "text": [
            "Enter values for list with space separation: 1 2 3 4\n",
            "This is the reversed list:  ['4', '3', '2', '1']\n"
          ]
        }
      ]
    },
    {
      "cell_type": "markdown",
      "source": [
        "Write a Python function that removes the first and last elements of a list and returns the resulting\n",
        "sublist.\n",
        "\n",
        "\n",
        "• Requirements:\n",
        "\n",
        "– Define a function remove first last(lst) that takes a list lst and returns a sublist without the first and last elements using slicing.\n",
        "\n",
        "– Example: For the input [1, 2, 3, 4, 5], the output should be [2, 3, 4]."
      ],
      "metadata": {
        "id": "-UDp2jhmyDp6"
      }
    },
    {
      "cell_type": "code",
      "source": [
        "initial_list = input(\"Enter values for list with space separation: \").split()\n",
        "\n",
        "def remove_first_last(lst):\n",
        "  \"\"\"Return a sublist without the first and last elements\"\"\"\n",
        "  return lst[1:-1]\n",
        "\n",
        "print(\"The final list is \", remove_first_last(initial_list))\n",
        "\n"
      ],
      "metadata": {
        "colab": {
          "base_uri": "https://localhost:8080/"
        },
        "id": "W86qe4Q8yLPQ",
        "outputId": "cc86b110-f901-4fd7-c7cd-7ccfba133ef0"
      },
      "execution_count": null,
      "outputs": [
        {
          "output_type": "stream",
          "name": "stdout",
          "text": [
            "Enter values for list with space separation: 1 2 3 4 5\n",
            "The final list is  ['2', '3', '4']\n"
          ]
        }
      ]
    },
    {
      "cell_type": "markdown",
      "source": [
        "Write a Python function that extracts the first n elements from a list.\n",
        "\n",
        "• Requirements:\n",
        "\n",
        "– Define a function get first n(lst, n) that takes a list lst and an integer n as input and returns the first n elements of the list using slicing.\n",
        "\n",
        "– Example: For the input [1, 2, 3, 4, 5] with n=3, the output should be [1, 2, 3]."
      ],
      "metadata": {
        "id": "WdhKoTG5ymuK"
      }
    },
    {
      "cell_type": "code",
      "source": [
        "initial_list = input(\"Enter values for list with space separation: \").split()\n",
        "\n",
        "def get_first_n(lst, n):\n",
        "  \"\"\"Return the first n elements of the list\"\"\"\n",
        "  return lst[:n]\n",
        "\n",
        "print(\"Total number of element in list\", len(initial_list))\n",
        "\n",
        "num = int(input(\"Enter how many elements do you want ? \"))\n",
        "\n",
        "print(\"The first\", num, \"elements are\", get_first_n(initial_list, num))"
      ],
      "metadata": {
        "colab": {
          "base_uri": "https://localhost:8080/"
        },
        "id": "_YH9HZJKysXM",
        "outputId": "3050ec36-735c-42f3-d955-342a5acdcdaa"
      },
      "execution_count": null,
      "outputs": [
        {
          "output_type": "stream",
          "name": "stdout",
          "text": [
            "Enter values for list with space separation: 1 2 3 4 5 6\n",
            "Total number of element in list 6\n",
            "Enter how many elements do you want ? 3\n",
            "The first 3 elements are ['1', '2', '3']\n"
          ]
        }
      ]
    },
    {
      "cell_type": "markdown",
      "source": [
        "Write a Python function that extracts the last n elements of a list using slicing.\n",
        "\n",
        "• Requirements:\n",
        "\n",
        "– Define a function get last n(lst, n) that takes a list lst and an integer n as input and\n",
        "returns the last n elements of the list.\n",
        "\n",
        "– Example: For the input [1, 2, 3, 4, 5] with n=2, the output should be [4, 5]."
      ],
      "metadata": {
        "id": "f2QYHoFbzKzQ"
      }
    },
    {
      "cell_type": "code",
      "source": [
        "initial_list = input(\"Enter values for list with space separation: \").split()\n",
        "\n",
        "\n",
        "def get_last_n(lst, n):\n",
        "  \"\"\"Return the last n elements of the list\"\"\"\n",
        "  return lst[-n:]\n",
        "\n",
        "print(\"The initial list: \", initial_list)\n",
        "print(\"Total number of element in list\", len(initial_list))\n",
        "\n",
        "num = int(input(\"Enter how many elements do you want from end? \"))\n",
        "\n",
        "print(\"The last\", num, \"elements are\", get_last_n(initial_list, num))\n"
      ],
      "metadata": {
        "colab": {
          "base_uri": "https://localhost:8080/"
        },
        "id": "bHTYkyguzaLr",
        "outputId": "e67c7d5e-3e9e-4833-a53d-7bc408ac7791"
      },
      "execution_count": null,
      "outputs": [
        {
          "output_type": "stream",
          "name": "stdout",
          "text": [
            "Enter values for list with space separation: 1 2 3 4 5 6\n",
            "The initial list:  ['1', '2', '3', '4', '5', '6']\n",
            "Total number of element in list 6\n",
            "Enter how many elements do you want from end? 2\n",
            "The last 2 elements are ['5', '6']\n"
          ]
        }
      ]
    },
    {
      "cell_type": "markdown",
      "source": [
        "Write a Python function that extracts a list of elements in reverse order starting from the second-to-last\n",
        "element and skipping one element in between.\n",
        "\n",
        "• Requirements:\n",
        "\n",
        "– Define a function reverse skip(lst) that takes a list lst and returns a new list containing\n",
        "every second element starting from the second-to-last, moving backward.\n",
        "\n",
        "– Example: For the input [1, 2, 3, 4, 5, 6], the output should be [5, 3, 1]."
      ],
      "metadata": {
        "id": "3TcMh_JV0b7K"
      }
    },
    {
      "cell_type": "code",
      "source": [
        "initial_list = input(\"Enter value for initial_list: \").split()\n",
        "\n",
        "print(\"The initial list is : \",initial_list)\n",
        "\n",
        "def reverse_skip(lst):\n",
        "  \"\"\" This extracts every other list and returns new list\"\"\"\n",
        "  return lst[::-2]\n",
        "\n",
        "print(\"The new list is : \",reverse_skip(initial_list))"
      ],
      "metadata": {
        "colab": {
          "base_uri": "https://localhost:8080/"
        },
        "id": "kuXHIFnA0eW5",
        "outputId": "e0877428-eeb7-45bb-ead0-280fc934ceb4"
      },
      "execution_count": null,
      "outputs": [
        {
          "output_type": "stream",
          "name": "stdout",
          "text": [
            "Enter value for initial_list: 1 2 3 4 5\n",
            "The initial list is :  ['1', '2', '3', '4', '5']\n",
            "The new list is :  ['5', '3', '1']\n"
          ]
        }
      ]
    },
    {
      "cell_type": "markdown",
      "source": [
        "Write a Python function that takes a nested list and flattens it into a single list, where all the elements\n",
        "are in a single dimension.\n",
        "\n",
        "• Requirements:\n",
        "\n",
        "– Define a function flatten(lst) that takes a nested list lst and returns a flattened version\n",
        "of the list.\n",
        "\n",
        "– Example: For the input [[1, 2], [3, 4], [5]], the output should be [1, 2, 3, 4, 5]."
      ],
      "metadata": {
        "id": "8KVBsr_aGsb3"
      }
    },
    {
      "cell_type": "code",
      "source": [
        "nested_list = [[1, 2], [3, 4], [5]]\n",
        "\n",
        "new_matrix  = []\n",
        "\n",
        "for lists in nested_list:\n",
        "  for values in lists:\n",
        "    new_matrix.append(values)\n",
        "\n",
        "print(\"The flattened list is : \", new_matrix)\n"
      ],
      "metadata": {
        "id": "ciuzyPwzGuxk",
        "colab": {
          "base_uri": "https://localhost:8080/"
        },
        "outputId": "efc6c846-f0bf-4812-e2f2-a9cdd9d76196"
      },
      "execution_count": 1,
      "outputs": [
        {
          "output_type": "stream",
          "name": "stdout",
          "text": [
            "The flattened list is :  [1, 2, 3, 4, 5]\n"
          ]
        }
      ]
    },
    {
      "cell_type": "markdown",
      "source": [
        "Write a Python function that calculates the average of all elements in a nested list.\n",
        "\n",
        "• Requirements:\n",
        "\n",
        "– Define a function average nested(lst) that takes a nested list lst and returns the average\n",
        "of all the elements.\n",
        "\n",
        "– Example: For the input [[1, 2], [3, 4], [5, 6]], the output should be 3.5."
      ],
      "metadata": {
        "id": "qi9MwtWu_VeJ"
      }
    },
    {
      "cell_type": "code",
      "source": [
        "nested_list = [[1, 2], [3, 4], [5, 6]]\n",
        "\n",
        "new_list = []\n",
        "\n",
        "def sum(nested_list):\n",
        "  \"\"\"This calculates the sum of all elements in a nested list\"\"\"\n",
        "  sum = 0\n",
        "  for lists in nested_list:\n",
        "      for value in lists:\n",
        "        new_list.append(value)\n",
        "        sum = sum + value\n",
        "  return sum\n",
        "\n",
        "def average_nested(lst):\n",
        "  \"\"\"This provides with the average\"\"\"\n",
        "  return sum(lst)/len(new_list)\n",
        "\n",
        "print(\"The average of all elements is : \", average_nested(nested_list))"
      ],
      "metadata": {
        "colab": {
          "base_uri": "https://localhost:8080/"
        },
        "id": "Y99uCuyy_tYi",
        "outputId": "d49ee58a-e1d7-4df9-b4e9-25f18eacd7e5"
      },
      "execution_count": 17,
      "outputs": [
        {
          "output_type": "stream",
          "name": "stdout",
          "text": [
            "The average of all elements is :  3.5\n"
          ]
        }
      ]
    },
    {
      "cell_type": "markdown",
      "source": [
        "**NUMPYY**"
      ],
      "metadata": {
        "id": "Xtd51MZWCTn4"
      }
    },
    {
      "cell_type": "code",
      "source": [
        "# For a 1-D array:\n",
        "import numpy as np\n",
        "arr_1d = np.array([1, 2, 3, 4, 5])\n",
        "print(arr_1d.ndim) # Output: 1\n",
        "# For a 2-D array:\n",
        "arr_2d = np.array([[1, 2, 3],[4, 5, 6]])\n",
        "print(arr_2d.ndim) # Output: 2\n",
        "#For a 3-D array:\n",
        "arr_3d = np.array([[[1, 2, 3],[4, 5, 6]],[[7, 8, 9],[10, 11, 12]]])\n",
        "print(arr_3d.ndim) # Output: 3"
      ],
      "metadata": {
        "colab": {
          "base_uri": "https://localhost:8080/"
        },
        "id": "x-oGwFp_Dp8l",
        "outputId": "6315310f-c4bc-4155-a454-bab91a941d54"
      },
      "execution_count": 20,
      "outputs": [
        {
          "output_type": "stream",
          "name": "stdout",
          "text": [
            "1\n",
            "2\n",
            "3\n"
          ]
        }
      ]
    },
    {
      "cell_type": "markdown",
      "source": [
        "**To - Do - NumPy**"
      ],
      "metadata": {
        "id": "truQX1G3UmyS"
      }
    },
    {
      "cell_type": "markdown",
      "source": [
        "Basic Vector and Matrix Operation with Numpy.\n",
        "Problem - 1: Array Creation:\n",
        "Complete the following Tasks:\n",
        "1. Initialize an empty array with size 2X2.\n",
        "2. Initialize an all one array with size 4X2.\n",
        "3. Return a new array of given shape and type, filled with fill value.{Hint: np.full}\n",
        "4. Return a new array of zeros with same shape and type as a given array.{Hint: np.zeros like}\n",
        "5. Return a new array of ones with same shape and type as a given array.{Hint: np.ones like}"
      ],
      "metadata": {
        "id": "x2Q7mBHFUqGY"
      }
    },
    {
      "cell_type": "code",
      "source": [
        "import numpy as np\n",
        "\n",
        "\n",
        "empty_array = np.empty((2, 2))\n",
        "print(\"Empty Array:\\n\", empty_array)"
      ],
      "metadata": {
        "colab": {
          "base_uri": "https://localhost:8080/"
        },
        "id": "DIfNuK-qUyqp",
        "outputId": "9e0819d2-992d-4cb2-d249-9302596dd0ad"
      },
      "execution_count": null,
      "outputs": [
        {
          "output_type": "stream",
          "name": "stdout",
          "text": [
            "Empty Array:\n",
            " [[6.61955361e-310 2.06527582e-316]\n",
            " [1.58101007e-322 1.58101007e-322]]\n"
          ]
        }
      ]
    },
    {
      "cell_type": "code",
      "source": [
        "ones_array = np.ones((4, 2))\n",
        "print(\"\\nAll Ones Array:\\n\", ones_array)\n"
      ],
      "metadata": {
        "colab": {
          "base_uri": "https://localhost:8080/"
        },
        "id": "yBDO8vo8U7dl",
        "outputId": "0dfa7f33-6b7e-4788-d23a-e4db0d2ac4ab"
      },
      "execution_count": null,
      "outputs": [
        {
          "output_type": "stream",
          "name": "stdout",
          "text": [
            "\n",
            "All Ones Array:\n",
            " [[1. 1.]\n",
            " [1. 1.]\n",
            " [1. 1.]\n",
            " [1. 1.]]\n"
          ]
        }
      ]
    },
    {
      "cell_type": "code",
      "source": [
        "fill_value_array = np.full((3, 3), 7)\n",
        "print(\"\\nArray filled with value 7:\\n\", fill_value_array)"
      ],
      "metadata": {
        "colab": {
          "base_uri": "https://localhost:8080/"
        },
        "id": "Kch23UJPU9J3",
        "outputId": "6ff49319-7423-4f1f-9d87-1fe4bbcdd34e"
      },
      "execution_count": null,
      "outputs": [
        {
          "output_type": "stream",
          "name": "stdout",
          "text": [
            "\n",
            "Array filled with value 7:\n",
            " [[7 7 7]\n",
            " [7 7 7]\n",
            " [7 7 7]]\n"
          ]
        }
      ]
    },
    {
      "cell_type": "code",
      "source": [
        "given_array = np.array([[1, 2, 3], [4, 5, 6]])\n",
        "zeros_like_array = np.zeros_like(given_array)\n",
        "print(\"\\nZeros Like Given Array:\\n\", zeros_like_array)"
      ],
      "metadata": {
        "colab": {
          "base_uri": "https://localhost:8080/"
        },
        "id": "YBJgefTWVBDl",
        "outputId": "ba574002-0d1b-4298-ec63-0b3866c9f41b"
      },
      "execution_count": null,
      "outputs": [
        {
          "output_type": "stream",
          "name": "stdout",
          "text": [
            "\n",
            "Zeros Like Given Array:\n",
            " [[0 0 0]\n",
            " [0 0 0]]\n"
          ]
        }
      ]
    },
    {
      "cell_type": "code",
      "source": [
        "ones_like_array = np.ones_like(given_array)\n",
        "print(\"\\nOnes Like Given Array:\\n\", ones_like_array)\n"
      ],
      "metadata": {
        "colab": {
          "base_uri": "https://localhost:8080/"
        },
        "id": "8eOgb7lrVDUN",
        "outputId": "e3e605c9-7208-464b-861f-0daf84eaedc2"
      },
      "execution_count": null,
      "outputs": [
        {
          "output_type": "stream",
          "name": "stdout",
          "text": [
            "\n",
            "Ones Like Given Array:\n",
            " [[1 1 1]\n",
            " [1 1 1]]\n"
          ]
        }
      ]
    },
    {
      "cell_type": "code",
      "source": [
        "new_list = [1, 2, 3, 4]\n",
        "numpy_array = np.array(new_list)\n",
        "print(\"\\nConverted Numpy Array:\\n\", numpy_array)"
      ],
      "metadata": {
        "colab": {
          "base_uri": "https://localhost:8080/"
        },
        "id": "3ITn2j66VfRM",
        "outputId": "153f16d8-04c1-4731-aadc-ddad6043eb7b"
      },
      "execution_count": null,
      "outputs": [
        {
          "output_type": "stream",
          "name": "stdout",
          "text": [
            "\n",
            "Converted Numpy Array:\n",
            " [1 2 3 4]\n"
          ]
        }
      ]
    },
    {
      "cell_type": "markdown",
      "source": [
        "Problem - 2: Array Manipulation: Numerical Ranges and Array indexing:\n",
        "Complete the following tasks:\n",
        "1. Create an array with values ranging from 10 to 49. {Hint:np.arrange()}.\n",
        "2. Create a 3X3 matrix with values ranging from 0 to 8.\n",
        "{Hint:look for np.reshape()}\n",
        "3. Create a 3X3 identity matrix.{Hint:np.eye()}\n",
        "4. Create a random array of size 30 and find the mean of the array.\n",
        "{Hint:check for np.random.random() and array.mean() function}\n",
        "5. Create a 10X10 array with random values and find the minimum and maximum values.\n",
        "6. Create a zero array of size 10 and replace 5th element with 1.\n",
        "7. Reverse an array arr = [1,2,0,0,4,0].\n",
        "8. Create a 2d array with 1 on border and 0 inside.\n",
        "9. Create a 8X8 matrix and fill it with a checkerboard pattern."
      ],
      "metadata": {
        "id": "VVaexiVrVqo0"
      }
    },
    {
      "cell_type": "code",
      "source": [
        "import numpy as np\n",
        "\n",
        "array_range = np.arange(10, 50)\n",
        "print(\"Array with values from 10 to 49:\\n\", array_range)"
      ],
      "metadata": {
        "colab": {
          "base_uri": "https://localhost:8080/"
        },
        "id": "S3spg7MUVsDr",
        "outputId": "9e68e7e9-f72f-4676-8eaf-e7500a1bada7"
      },
      "execution_count": null,
      "outputs": [
        {
          "output_type": "stream",
          "name": "stdout",
          "text": [
            "Array with values from 10 to 49:\n",
            " [10 11 12 13 14 15 16 17 18 19 20 21 22 23 24 25 26 27 28 29 30 31 32 33\n",
            " 34 35 36 37 38 39 40 41 42 43 44 45 46 47 48 49]\n"
          ]
        }
      ]
    },
    {
      "cell_type": "code",
      "source": [
        "matrix_3x3 = np.arange(9).reshape(3, 3)\n",
        "print(\"\\n3x3 Matrix with values from 0 to 8:\\n\", matrix_3x3)\n"
      ],
      "metadata": {
        "colab": {
          "base_uri": "https://localhost:8080/"
        },
        "id": "8C3dFpeiV0Vn",
        "outputId": "aca20255-603d-436b-e8cf-171bbf19f254"
      },
      "execution_count": null,
      "outputs": [
        {
          "output_type": "stream",
          "name": "stdout",
          "text": [
            "\n",
            "3x3 Matrix with values from 0 to 8:\n",
            " [[0 1 2]\n",
            " [3 4 5]\n",
            " [6 7 8]]\n"
          ]
        }
      ]
    },
    {
      "cell_type": "code",
      "source": [
        "identity_matrix = np.eye(3)\n",
        "print(\"\\n3x3 Identity Matrix:\\n\", identity_matrix)"
      ],
      "metadata": {
        "colab": {
          "base_uri": "https://localhost:8080/"
        },
        "id": "xEjMuaMgV6go",
        "outputId": "e3518a70-f539-4554-b3dc-25e36b34b146"
      },
      "execution_count": null,
      "outputs": [
        {
          "output_type": "stream",
          "name": "stdout",
          "text": [
            "\n",
            "3x3 Identity Matrix:\n",
            " [[1. 0. 0.]\n",
            " [0. 1. 0.]\n",
            " [0. 0. 1.]]\n"
          ]
        }
      ]
    },
    {
      "cell_type": "code",
      "source": [
        "random_array = np.random.random(30)\n",
        "mean_value = random_array.mean()\n",
        "print(\"\\nMean of random array:\\n\", mean_value)"
      ],
      "metadata": {
        "colab": {
          "base_uri": "https://localhost:8080/"
        },
        "id": "4o93j6XbWAf_",
        "outputId": "b3829141-34c7-43d8-b298-304690cc712d"
      },
      "execution_count": null,
      "outputs": [
        {
          "output_type": "stream",
          "name": "stdout",
          "text": [
            "\n",
            "Mean of random array:\n",
            " 0.45360561277518374\n"
          ]
        }
      ]
    },
    {
      "cell_type": "code",
      "source": [
        "random_10x10 = np.random.random((10, 10))\n",
        "min_value = random_10x10.min()\n",
        "max_value = random_10x10.max()\n",
        "print(\"\\nMinimum value:\", min_value, \" Maximum value:\", max_value)"
      ],
      "metadata": {
        "colab": {
          "base_uri": "https://localhost:8080/"
        },
        "id": "L5_vOzSpWDEv",
        "outputId": "68f2d1af-3260-4b2d-ee84-39f49215d0c2"
      },
      "execution_count": null,
      "outputs": [
        {
          "output_type": "stream",
          "name": "stdout",
          "text": [
            "\n",
            "Minimum value: 0.0189898837930067  Maximum value: 0.9987921252432198\n"
          ]
        }
      ]
    },
    {
      "cell_type": "code",
      "source": [
        "zero_array = np.zeros(10)\n",
        "zero_array[4] = 1\n",
        "print(\"\\nZero array with 5th element as 1:\\n\", zero_array)"
      ],
      "metadata": {
        "colab": {
          "base_uri": "https://localhost:8080/"
        },
        "id": "G8sCFNMzWGRX",
        "outputId": "2e30a487-c04e-437c-a939-15cfc800cedb"
      },
      "execution_count": null,
      "outputs": [
        {
          "output_type": "stream",
          "name": "stdout",
          "text": [
            "\n",
            "Zero array with 5th element as 1:\n",
            " [0. 0. 0. 0. 1. 0. 0. 0. 0. 0.]\n"
          ]
        }
      ]
    },
    {
      "cell_type": "code",
      "source": [
        "arr = np.array([1, 2, 0, 0, 4, 0])\n",
        "reversed_arr = arr[::-1]\n",
        "print(\"\\nReversed array:\\n\", reversed_arr)"
      ],
      "metadata": {
        "colab": {
          "base_uri": "https://localhost:8080/"
        },
        "id": "vc7x8qvcWOCF",
        "outputId": "906e9626-1573-44df-a489-1502cea741ab"
      },
      "execution_count": null,
      "outputs": [
        {
          "output_type": "stream",
          "name": "stdout",
          "text": [
            "\n",
            "Reversed array:\n",
            " [0 4 0 0 2 1]\n"
          ]
        }
      ]
    },
    {
      "cell_type": "code",
      "source": [
        "border_array = np.ones((5, 5))\n",
        "border_array[1:-1, 1:-1] = 0\n",
        "print(\"\\n2D Array with border of 1s and 0s inside:\\n\", border_array)"
      ],
      "metadata": {
        "colab": {
          "base_uri": "https://localhost:8080/"
        },
        "id": "KpuFATiGWRkT",
        "outputId": "517c0847-376c-432f-9a52-28a9f5fb5705"
      },
      "execution_count": null,
      "outputs": [
        {
          "output_type": "stream",
          "name": "stdout",
          "text": [
            "\n",
            "2D Array with border of 1s and 0s inside:\n",
            " [[1. 1. 1. 1. 1.]\n",
            " [1. 0. 0. 0. 1.]\n",
            " [1. 0. 0. 0. 1.]\n",
            " [1. 0. 0. 0. 1.]\n",
            " [1. 1. 1. 1. 1.]]\n"
          ]
        }
      ]
    },
    {
      "cell_type": "code",
      "source": [
        "checkerboard = np.zeros((8, 8), dtype=int)\n",
        "checkerboard[1::2, ::2] = 1\n",
        "checkerboard[::2, 1::2] = 1\n",
        "print(\"\\n8x8 Checkerboard Pattern:\\n\", checkerboard)\n"
      ],
      "metadata": {
        "colab": {
          "base_uri": "https://localhost:8080/"
        },
        "id": "kLXRBZmXWUkn",
        "outputId": "bccb30fd-ad67-4b4f-e689-92ab624e31aa"
      },
      "execution_count": null,
      "outputs": [
        {
          "output_type": "stream",
          "name": "stdout",
          "text": [
            "\n",
            "8x8 Checkerboard Pattern:\n",
            " [[0 1 0 1 0 1 0 1]\n",
            " [1 0 1 0 1 0 1 0]\n",
            " [0 1 0 1 0 1 0 1]\n",
            " [1 0 1 0 1 0 1 0]\n",
            " [0 1 0 1 0 1 0 1]\n",
            " [1 0 1 0 1 0 1 0]\n",
            " [0 1 0 1 0 1 0 1]\n",
            " [1 0 1 0 1 0 1 0]]\n"
          ]
        }
      ]
    },
    {
      "cell_type": "markdown",
      "source": [
        "Problem - 3: Array Operations:\n",
        "For the following arrays:\n",
        "x = np.array([[1,2],[3,5]]) and y = np.array([[5,6],[7,8]]);\n",
        "v = np.array([9,10]) and w = np.array([11,12]);\n",
        "Complete all the task using numpy:\n",
        "1. Add the two array.\n",
        "2. Subtract the two array.\n",
        "3. Multiply the array with any integers of your choice.\n",
        "4. Find the square of each element of the array.\n",
        "5. Find the dot product between: v(and)w ; x(and)v ; x(and)y.\n",
        "6. Concatenate x(and)y along row and Concatenate v(and)w along column.\n",
        "{Hint:try np.concatenate() or np.vstack() functions.\n",
        "7. Concatenate x(and)v; if you get an error, observe and explain why did you get the error?"
      ],
      "metadata": {
        "id": "AXu2r69MWXj1"
      }
    },
    {
      "cell_type": "code",
      "source": [
        "x = np.array([[1, 2], [3, 5]])\n",
        "y = np.array([[5, 6], [7, 8]])\n",
        "v = np.array([9, 10])\n",
        "w = np.array([11, 12])"
      ],
      "metadata": {
        "id": "le-mwPlqWcjY"
      },
      "execution_count": null,
      "outputs": []
    },
    {
      "cell_type": "code",
      "source": [
        "sum_array = x + y\n",
        "print(\"\\nSum of x and y:\\n\", sum_array)"
      ],
      "metadata": {
        "colab": {
          "base_uri": "https://localhost:8080/"
        },
        "id": "OLdU8s1yWvY0",
        "outputId": "2fc93d54-7c8d-445d-b877-87d5207a163a"
      },
      "execution_count": null,
      "outputs": [
        {
          "output_type": "stream",
          "name": "stdout",
          "text": [
            "\n",
            "Sum of x and y:\n",
            " [[ 6  8]\n",
            " [10 13]]\n"
          ]
        }
      ]
    },
    {
      "cell_type": "code",
      "source": [
        "diff_array = x - y\n",
        "print(\"\\nDifference of x and y:\\n\", diff_array)"
      ],
      "metadata": {
        "colab": {
          "base_uri": "https://localhost:8080/"
        },
        "id": "vFTLlb0tWyOS",
        "outputId": "8f2e15d2-3434-45e3-f4bc-785f985cf83c"
      },
      "execution_count": null,
      "outputs": [
        {
          "output_type": "stream",
          "name": "stdout",
          "text": [
            "\n",
            "Difference of x and y:\n",
            " [[-4 -4]\n",
            " [-4 -3]]\n"
          ]
        }
      ]
    },
    {
      "cell_type": "code",
      "source": [
        "multiplied_array = x * 2\n",
        "print(\"\\nMultiplication of x with 2:\\n\", multiplied_array)"
      ],
      "metadata": {
        "colab": {
          "base_uri": "https://localhost:8080/"
        },
        "id": "Q-fooXitW05f",
        "outputId": "0a47a9e1-13cd-4b8c-891a-3cf2aff4a002"
      },
      "execution_count": null,
      "outputs": [
        {
          "output_type": "stream",
          "name": "stdout",
          "text": [
            "\n",
            "Multiplication of x with 2:\n",
            " [[ 2  4]\n",
            " [ 6 10]]\n"
          ]
        }
      ]
    },
    {
      "cell_type": "code",
      "source": [
        "squared_array = x ** 2\n",
        "print(\"\\nSquare of each element in x:\\n\", squared_array)"
      ],
      "metadata": {
        "colab": {
          "base_uri": "https://localhost:8080/"
        },
        "id": "mhDgoObeW3u5",
        "outputId": "967d413a-2e8d-4673-f268-e95cc2c8322e"
      },
      "execution_count": null,
      "outputs": [
        {
          "output_type": "stream",
          "name": "stdout",
          "text": [
            "\n",
            "Square of each element in x:\n",
            " [[ 1  4]\n",
            " [ 9 25]]\n"
          ]
        }
      ]
    },
    {
      "cell_type": "code",
      "source": [
        "dot_v_w = np.dot(v, w)\n",
        "dot_x_v = np.dot(x, v)\n",
        "dot_x_y = np.dot(x, y)\n",
        "print(\"\\nDot product of v and w:\\n\", dot_v_w)\n",
        "print(\"\\nDot product of x and v:\\n\", dot_x_v)\n",
        "print(\"\\nDot product of x and y:\\n\", dot_x_y)"
      ],
      "metadata": {
        "colab": {
          "base_uri": "https://localhost:8080/"
        },
        "id": "Rz4-yPZ_W6rQ",
        "outputId": "cb15cbb0-f973-41cd-b44d-fe7dfb9d4167"
      },
      "execution_count": null,
      "outputs": [
        {
          "output_type": "stream",
          "name": "stdout",
          "text": [
            "\n",
            "Dot product of v and w:\n",
            " 219\n",
            "\n",
            "Dot product of x and v:\n",
            " [29 77]\n",
            "\n",
            "Dot product of x and y:\n",
            " [[19 22]\n",
            " [50 58]]\n"
          ]
        }
      ]
    },
    {
      "cell_type": "code",
      "source": [
        "concatenated_xy = np.concatenate((x, y), axis=0)\n",
        "concatenated_vw = np.vstack((v, w))\n",
        "print(\"\\nConcatenated x and y along rows:\\n\", concatenated_xy)\n",
        "print(\"\\nConcatenated v and w along columns:\\n\", concatenated_vw)\n"
      ],
      "metadata": {
        "colab": {
          "base_uri": "https://localhost:8080/"
        },
        "id": "FX2UygPWW9e5",
        "outputId": "503e7122-50c5-47fc-caaa-a6406203fc3a"
      },
      "execution_count": null,
      "outputs": [
        {
          "output_type": "stream",
          "name": "stdout",
          "text": [
            "\n",
            "Concatenated x and y along rows:\n",
            " [[1 2]\n",
            " [3 5]\n",
            " [5 6]\n",
            " [7 8]]\n",
            "\n",
            "Concatenated v and w along columns:\n",
            " [[ 9 10]\n",
            " [11 12]]\n"
          ]
        }
      ]
    },
    {
      "cell_type": "code",
      "source": [
        "try:\n",
        "    concatenated_xv = np.concatenate((x, v), axis=0)\n",
        "    print(\"\\nConcatenated x and v:\\n\", concatenated_xv)\n",
        "except ValueError as e:\n",
        "    print(\"\\nError when concatenating x and v:\\n\", e)\n",
        "    print(\"Explanation: The error occurs because x is a 2x2 matrix, and v is a 1D array of size 2. To concatenate correctly, v needs to be reshaped into a 2D array.\")"
      ],
      "metadata": {
        "colab": {
          "base_uri": "https://localhost:8080/"
        },
        "id": "cyRqvwAMXEGi",
        "outputId": "b30d5762-3d69-439a-a14f-01100c0c0d14"
      },
      "execution_count": null,
      "outputs": [
        {
          "output_type": "stream",
          "name": "stdout",
          "text": [
            "\n",
            "Error when concatenating x and v:\n",
            " all the input arrays must have same number of dimensions, but the array at index 0 has 2 dimension(s) and the array at index 1 has 1 dimension(s)\n",
            "Explanation: The error occurs because x is a 2x2 matrix, and v is a 1D array of size 2. To concatenate correctly, v needs to be reshaped into a 2D array.\n"
          ]
        }
      ]
    },
    {
      "cell_type": "markdown",
      "source": [
        "Problem - 4: Matrix Operations:\n",
        "• For the following arrays:\n",
        "A = np.array([[3,4],[7,8]]) and B = np.array([[5,3],[2,1]]);\n",
        "Prove following with Numpy:\n",
        "1. Prove A.A−1 = I.\n",
        "2. Prove AB ̸= BA.\n",
        "3. Prove (AB)\n",
        "\n",
        "T = BTAT\n",
        ".\n",
        "\n",
        "• Solve the following system of Linear equation using Inverse Methods.\n",
        "\n",
        "2x − 3y + z = −1\n",
        "x − y + 2z = −3\n",
        "3x + y − z = 9\n",
        "\n",
        "{Hint: First use Numpy array to represent the equation in Matrix form. Then Solve for: AX = B}\n",
        "\n",
        "• Now: solve the above equation using np.linalg.inv function.{Explore more about ”linalg” func-\n",
        "tion of Numpy}"
      ],
      "metadata": {
        "id": "4Ne3FZEhXQ6q"
      }
    },
    {
      "cell_type": "code",
      "source": [
        "import numpy as np\n",
        "A = np.array([[3, 4], [7, 8]])\n",
        "B = np.array([[5, 3], [2, 1]])\n"
      ],
      "metadata": {
        "id": "HRXdZIw5XSX5"
      },
      "execution_count": null,
      "outputs": []
    },
    {
      "cell_type": "code",
      "source": [
        "#1\n",
        "A_inv = np.linalg.inv(A)\n",
        "identity_matrix = np.dot(A, A_inv)\n",
        "print(\"\\nA * A^(-1) (Identity Matrix):\\n\", identity_matrix)\n"
      ],
      "metadata": {
        "id": "cBe8OFdlYCQf",
        "colab": {
          "base_uri": "https://localhost:8080/"
        },
        "outputId": "1f030978-7e29-4d06-e719-5c0d45e85215"
      },
      "execution_count": null,
      "outputs": [
        {
          "output_type": "stream",
          "name": "stdout",
          "text": [
            "\n",
            "A * A^(-1) (Identity Matrix):\n",
            " [[1.00000000e+00 0.00000000e+00]\n",
            " [1.77635684e-15 1.00000000e+00]]\n"
          ]
        }
      ]
    },
    {
      "cell_type": "code",
      "source": [
        "#2\n",
        "AB = np.dot(A, B)\n",
        "BA = np.dot(B, A)\n",
        "print(\"\\nAB:\\n\", AB)\n",
        "print(\"\\nBA:\\n\", BA)\n",
        "print(\"\\nIs AB equal to BA?\", np.array_equal(AB, BA))"
      ],
      "metadata": {
        "colab": {
          "base_uri": "https://localhost:8080/"
        },
        "id": "rAdcHHmCXfqh",
        "outputId": "fb8a05dd-9ecd-4880-f145-a5a9c9ecc03b"
      },
      "execution_count": null,
      "outputs": [
        {
          "output_type": "stream",
          "name": "stdout",
          "text": [
            "\n",
            "AB:\n",
            " [[23 13]\n",
            " [51 29]]\n",
            "\n",
            "BA:\n",
            " [[36 44]\n",
            " [13 16]]\n",
            "\n",
            "Is AB equal to BA? False\n"
          ]
        }
      ]
    },
    {
      "cell_type": "code",
      "source": [
        "#3\n",
        "AB_T = np.transpose(AB)\n",
        "B_TA_T = np.dot(np.transpose(B), np.transpose(A))\n",
        "print(\"\\n(AB)^T:\\n\", AB_T)\n",
        "print(\"\\nB^T A^T:\\n\", B_TA_T)\n",
        "print(\"\\nIs (AB)^T equal to B^T A^T?\", np.array_equal(AB_T, B_TA_T))"
      ],
      "metadata": {
        "colab": {
          "base_uri": "https://localhost:8080/"
        },
        "id": "1Xd-1X42Xikj",
        "outputId": "981b04cd-7662-4303-859f-75f8ec0df67a"
      },
      "execution_count": null,
      "outputs": [
        {
          "output_type": "stream",
          "name": "stdout",
          "text": [
            "\n",
            "(AB)^T:\n",
            " [[23 51]\n",
            " [13 29]]\n",
            "\n",
            "B^T A^T:\n",
            " [[23 51]\n",
            " [13 29]]\n",
            "\n",
            "Is (AB)^T equal to B^T A^T? True\n"
          ]
        }
      ]
    },
    {
      "cell_type": "code",
      "source": [
        "A_matrix = np.array([[2, -3, 1], [1, -1, 2], [3, 1, -1]])\n",
        "B_matrix = np.array([-1, -3, 9])\n",
        "A_inv_matrix = np.linalg.inv(A_matrix)\n",
        "X = np.dot(A_inv_matrix, B_matrix)\n",
        "print(\"\\nSolution of the linear equations:\")\n",
        "print(\"x =\", X[0])\n",
        "print(\"y =\", X[1])\n",
        "print(\"z =\", X[2])"
      ],
      "metadata": {
        "colab": {
          "base_uri": "https://localhost:8080/"
        },
        "id": "i9yTnyqUXqFq",
        "outputId": "c9ae733d-dd3e-49d9-e428-d83e0df415fa"
      },
      "execution_count": null,
      "outputs": [
        {
          "output_type": "stream",
          "name": "stdout",
          "text": [
            "\n",
            "Solution of the linear equations:\n",
            "x = 2.0\n",
            "y = 1.0\n",
            "z = -2.0\n"
          ]
        }
      ]
    },
    {
      "cell_type": "markdown",
      "source": [
        "10.2 Experiment: How Fast is Numpy?\n",
        "In this exercise, you will compare the performance and implementation of operations using plain Python\n",
        "lists (arrays) and NumPy arrays. Follow the instructions:\n",
        "1. Element-wise Addition:\n",
        "• Using Python Lists, perform element-wise addition of two lists of size 1, 000, 000. Measure\n",
        "and Print the time taken for this operation.\n",
        "• Using Numpy Arrays, Repeat the calculation and measure and print the time taken for\n",
        "this operation.\n",
        "2. Element-wise Multiplication\n",
        "• Using Python Lists, perform element-wise multiplication of two lists of size 1, 000, 000.\n",
        "Measure and Print the time taken for this operation.\n",
        "• Using Numpy Arrays, Repeat the calculation and measure and print the time taken for\n",
        "this operation.\n",
        "3. Dot Product\n",
        "• Using Python Lists, compute the dot product of two lists of size 1, 000, 000. Measure and\n",
        "Print the time taken for this operation.\n",
        "• Using Numpy Arrays, Repeat the calculation and measure and print the time taken for\n",
        "this operation.\n",
        "4. Matrix Multiplication\n",
        "\n",
        "• Using Python lists, perform matrix multiplication of two matrices of size 1000x1000. Mea-\n",
        "sure and print the time taken for this operation.\n",
        "\n",
        "• Using NumPy arrays, perform matrix multiplication of two matrices of size 1000x1000.\n",
        "Measure and print the time taken for this operation."
      ],
      "metadata": {
        "id": "Py6MtPdUYTNX"
      }
    },
    {
      "cell_type": "code",
      "source": [
        "import numpy as np\n",
        "import time\n",
        "\n",
        "# 1. Element-wise Addition\n",
        "n = 1000000\n",
        "list1 = list(range(n))\n",
        "list2 = list(range(n))\n",
        "array1 = np.arange(n)\n",
        "array2 = np.arange(n)\n",
        "\n",
        "# Python Lists\n",
        "start_time = time.time()\n",
        "list_sum = [list1[i] + list2[i] for i in range(n)]\n",
        "print(\"\\nTime for Python list addition:\", time.time() - start_time, \"seconds\")\n",
        "\n",
        "# NumPy Arrays\n",
        "start_time = time.time()\n",
        "numpy_sum = array1 + array2\n",
        "print(\"Time for NumPy array addition:\", time.time() - start_time, \"seconds\")"
      ],
      "metadata": {
        "colab": {
          "base_uri": "https://localhost:8080/"
        },
        "id": "aJv2YzbDYWsq",
        "outputId": "b04ab4b2-77f9-488d-8976-a818e0eaa6a3"
      },
      "execution_count": null,
      "outputs": [
        {
          "output_type": "stream",
          "name": "stdout",
          "text": [
            "\n",
            "Time for Python list addition: 0.1333765983581543 seconds\n",
            "Time for NumPy array addition: 0.006696939468383789 seconds\n"
          ]
        }
      ]
    },
    {
      "cell_type": "code",
      "source": [
        "# 2\n",
        "# Python Lists\n",
        "start_time = time.time()\n",
        "list_product = [list1[i] * list2[i] for i in range(n)]\n",
        "print(\"\\nTime for Python list multiplication:\", time.time() - start_time, \"seconds\")\n",
        "\n",
        "# NumPy Arrays\n",
        "start_time = time.time()\n",
        "numpy_product = array1 * array2\n",
        "print(\"Time for NumPy array multiplication:\", time.time() - start_time, \"seconds\")"
      ],
      "metadata": {
        "colab": {
          "base_uri": "https://localhost:8080/"
        },
        "id": "W6VXpXcUZKMT",
        "outputId": "fb6e0ccf-b054-4cea-e388-10d7433388e3"
      },
      "execution_count": null,
      "outputs": [
        {
          "output_type": "stream",
          "name": "stdout",
          "text": [
            "\n",
            "Time for Python list multiplication: 0.16466856002807617 seconds\n",
            "Time for NumPy array multiplication: 0.011977672576904297 seconds\n"
          ]
        }
      ]
    },
    {
      "cell_type": "code",
      "source": [
        "# 3\n",
        "# Python Lists\n",
        "start_time = time.time()\n",
        "dot_product_list = sum(list1[i] * list2[i] for i in range(n))\n",
        "print(\"\\nTime for Python list dot product:\", time.time() - start_time, \"seconds\")\n",
        "\n",
        "# NumPy Arrays\n",
        "start_time = time.time()\n",
        "dot_product_numpy = np.dot(array1, array2)\n",
        "print(\"Time for NumPy array dot product:\", time.time() - start_time, \"seconds\")\n"
      ],
      "metadata": {
        "colab": {
          "base_uri": "https://localhost:8080/"
        },
        "id": "W9Qzmj2QZPLn",
        "outputId": "9aa016bf-248f-48ee-80bc-a6a1bd6a3098"
      },
      "execution_count": null,
      "outputs": [
        {
          "output_type": "stream",
          "name": "stdout",
          "text": [
            "\n",
            "Time for Python list dot product: 0.15959930419921875 seconds\n",
            "Time for NumPy array dot product: 0.0024275779724121094 seconds\n"
          ]
        }
      ]
    }
  ]
}